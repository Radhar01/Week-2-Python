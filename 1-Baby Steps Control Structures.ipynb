{
 "cells": [
  {
   "cell_type": "code",
   "execution_count": 1,
   "metadata": {
    "colab": {
     "base_uri": "https://localhost:8080/"
    },
    "executionInfo": {
     "elapsed": 615,
     "status": "ok",
     "timestamp": 1728365486596,
     "user": {
      "displayName": "lambert rezon",
      "userId": "09998494782697120673"
     },
     "user_tz": -330
    },
    "id": "TTUvmDcxm9j0",
    "outputId": "ca2b88f4-d66d-414a-b5b1-e5510485f070"
   },
   "outputs": [
    {
     "name": "stdout",
     "output_type": "stream",
     "text": [
      "Welcome to Assignment-1\n"
     ]
    }
   ],
   "source": [
    "print(\"Welcome to Assignment-1\")"
   ]
  },
  {
   "cell_type": "code",
   "execution_count": 2,
   "metadata": {
    "colab": {
     "base_uri": "https://localhost:8080/"
    },
    "executionInfo": {
     "elapsed": 3831,
     "status": "ok",
     "timestamp": 1728366135531,
     "user": {
      "displayName": "lambert rezon",
      "userId": "09998494782697120673"
     },
     "user_tz": -330
    },
    "id": "Denzz8i5n1HI",
    "outputId": "5e962fbb-6113-4d1e-aaa2-d470652f1f51"
   },
   "outputs": [
    {
     "name": "stdin",
     "output_type": "stream",
     "text": [
      "Enter Num1= 15\n",
      "Enter Num2= 20\n"
     ]
    },
    {
     "name": "stdout",
     "output_type": "stream",
     "text": [
      "Add= 35\n"
     ]
    }
   ],
   "source": [
    "Num1 = int(input(\"Enter Num1=\"))\n",
    "Num2 = int(input(\"Enter Num2=\"))\n",
    "print(\"Add= \"+str(Num1+Num2))"
   ]
  },
  {
   "cell_type": "code",
   "execution_count": 3,
   "metadata": {
    "colab": {
     "base_uri": "https://localhost:8080/"
    },
    "executionInfo": {
     "elapsed": 2996,
     "status": "ok",
     "timestamp": 1728366480403,
     "user": {
      "displayName": "lambert rezon",
      "userId": "09998494782697120673"
     },
     "user_tz": -330
    },
    "id": "fBKT7M10pqst",
    "outputId": "4c774d31-72f6-413f-f91e-7c9aa7e63d63"
   },
   "outputs": [
    {
     "name": "stdin",
     "output_type": "stream",
     "text": [
      "Enter the BMI Index :  33\n"
     ]
    },
    {
     "name": "stdout",
     "output_type": "stream",
     "text": [
      "You are obese & Class 1.\n"
     ]
    }
   ],
   "source": [
    "\n",
    "bmi = float(input(\"Enter the BMI Index : \"))\n",
    "\n",
    "if bmi < 18.5:\n",
    "    print(\"You are underweight.\")\n",
    "elif 18.5 <= bmi < 25:\n",
    "    print(\"Your weight is normal.\")\n",
    "elif 25 <= bmi < 30:\n",
    "    print(\"You are overweight.\")\n",
    "elif 30 <= bmi < 35:\n",
    "    print(\"You are obese & Class 1.\")\n",
    "elif 35 <= bmi < 40:\n",
    "    print(\"You are obese & Class 2.\")\n",
    "elif bmi >= 40:\n",
    "    print(\"You are obese & Class 3.\")\n",
    "else:\n",
    "    print(\"You are over obese.\")\n"
   ]
  },
  {
   "cell_type": "code",
   "execution_count": null,
   "metadata": {},
   "outputs": [],
   "source": []
  }
 ],
 "metadata": {
  "colab": {
   "authorship_tag": "ABX9TyMvyRSm/rl4jMXJqr+LXou6",
   "provenance": []
  },
  "kernelspec": {
   "display_name": "Python 3 (ipykernel)",
   "language": "python",
   "name": "python3"
  },
  "language_info": {
   "codemirror_mode": {
    "name": "ipython",
    "version": 3
   },
   "file_extension": ".py",
   "mimetype": "text/x-python",
   "name": "python",
   "nbconvert_exporter": "python",
   "pygments_lexer": "ipython3",
   "version": "3.12.4"
  }
 },
 "nbformat": 4,
 "nbformat_minor": 4
}
