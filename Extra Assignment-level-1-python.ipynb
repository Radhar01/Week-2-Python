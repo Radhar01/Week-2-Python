{
 "cells": [
  {
   "cell_type": "code",
   "execution_count": 1,
   "metadata": {
    "colab": {
     "base_uri": "https://localhost:8080/"
    },
    "executionInfo": {
     "elapsed": 412,
     "status": "ok",
     "timestamp": 1728367016534,
     "user": {
      "displayName": "lambert rezon",
      "userId": "09998494782697120673"
     },
     "user_tz": -330
    },
    "id": "6fFtNDjZsqf0",
    "outputId": "eeacbde8-c684-49a9-b2df-f6211fbb5f5e"
   },
   "outputs": [
    {
     "name": "stdout",
     "output_type": "stream",
     "text": [
      "HOPE AI \n"
     ]
    }
   ],
   "source": [
    "print(\"HOPE AI \")"
   ]
  },
  {
   "cell_type": "code",
   "execution_count": 2,
   "metadata": {
    "colab": {
     "base_uri": "https://localhost:8080/"
    },
    "executionInfo": {
     "elapsed": 2235,
     "status": "ok",
     "timestamp": 1728367761998,
     "user": {
      "displayName": "lambert rezon",
      "userId": "09998494782697120673"
     },
     "user_tz": -330
    },
    "id": "140SpDkos8K9",
    "outputId": "0d61675d-21ff-41a0-d40c-19ebf629f34d"
   },
   "outputs": [
    {
     "name": "stdin",
     "output_type": "stream",
     "text": [
      "Enter your institute name :  HOPELEARNING\n"
     ]
    },
    {
     "name": "stdout",
     "output_type": "stream",
     "text": [
      "Enter your institute name : HOPELEARNING"
     ]
    }
   ],
   "source": [
    "name = input(\"Enter your institute name : \")\n",
    "print(f\"\\rEnter your institute name : {name}\", end=\"\")"
   ]
  },
  {
   "cell_type": "code",
   "execution_count": 3,
   "metadata": {
    "colab": {
     "base_uri": "https://localhost:8080/"
    },
    "executionInfo": {
     "elapsed": 8343,
     "status": "ok",
     "timestamp": 1728367908126,
     "user": {
      "displayName": "lambert rezon",
      "userId": "09998494782697120673"
     },
     "user_tz": -330
    },
    "id": "Qovk29ksv02T",
    "outputId": "f60eca77-c31b-4bb5-9852-db3e653b84bb"
   },
   "outputs": [
    {
     "name": "stdin",
     "output_type": "stream",
     "text": [
      "Enter your name:  RAJESH KUMAR R\n",
      "Enter your age:  37\n",
      "Enter your school name:  MAHAJANA\n",
      "Enter your degree:  BE\n"
     ]
    },
    {
     "name": "stdout",
     "output_type": "stream",
     "text": [
      "--------------Result--------------\n",
      "Enter your name: RAJESH KUMAR R \n",
      "Enter your age: 37 \n",
      "Enter your school name: MAHAJANA \n",
      "Enter your degree: BE\n"
     ]
    }
   ],
   "source": [
    "name = input(\"Enter your name: \")\n",
    "age = input(\"Enter your age: \")\n",
    "school = input(\"Enter your school name: \")\n",
    "degree = input(\"Enter your degree: \")\n",
    "print(\"--------------Result--------------\")\n",
    "print(f\"\\rEnter your name: {name} \\nEnter your age: {age} \\nEnter your school name: {school} \\nEnter your degree: {degree}\")"
   ]
  },
  {
   "cell_type": "code",
   "execution_count": 4,
   "metadata": {
    "colab": {
     "base_uri": "https://localhost:8080/"
    },
    "executionInfo": {
     "elapsed": 5069,
     "status": "ok",
     "timestamp": 1728368017943,
     "user": {
      "displayName": "lambert rezon",
      "userId": "09998494782697120673"
     },
     "user_tz": -330
    },
    "id": "uushh17RwqHc",
    "outputId": "7a627c97-4bac-4427-9245-2451ff755ccd"
   },
   "outputs": [
    {
     "name": "stdin",
     "output_type": "stream",
     "text": [
      "Enter value for num1:  20\n",
      "Enter value for num2:  10\n"
     ]
    },
    {
     "name": "stdout",
     "output_type": "stream",
     "text": [
      "Addition = 30\n"
     ]
    }
   ],
   "source": [
    "num1 = int(input(\"Enter value for num1: \"))\n",
    "num2 = int(input(\"Enter value for num2: \"))\n",
    "add = num1 + num2\n",
    "print(f\"Addition = {add}\")"
   ]
  },
  {
   "cell_type": "code",
   "execution_count": 5,
   "metadata": {
    "colab": {
     "base_uri": "https://localhost:8080/"
    },
    "executionInfo": {
     "elapsed": 3477,
     "status": "ok",
     "timestamp": 1728368063152,
     "user": {
      "displayName": "lambert rezon",
      "userId": "09998494782697120673"
     },
     "user_tz": -330
    },
    "id": "08xM1JlDw0mY",
    "outputId": "255c9c88-b43e-47b6-fccf-7d4e2823b937"
   },
   "outputs": [
    {
     "name": "stdin",
     "output_type": "stream",
     "text": [
      "Enter value for num1:  30\n",
      "Enter value for num2:  20\n"
     ]
    },
    {
     "name": "stdout",
     "output_type": "stream",
     "text": [
      "Subtraction = 10\n"
     ]
    }
   ],
   "source": [
    "num1 = int(input(\"Enter value for num1: \"))\n",
    "num2 = int(input(\"Enter value for num2: \"))\n",
    "sub = num1 - num2\n",
    "print(f\"Subtraction = {sub}\")"
   ]
  },
  {
   "cell_type": "code",
   "execution_count": 6,
   "metadata": {
    "colab": {
     "base_uri": "https://localhost:8080/"
    },
    "executionInfo": {
     "elapsed": 2834,
     "status": "ok",
     "timestamp": 1728368083413,
     "user": {
      "displayName": "lambert rezon",
      "userId": "09998494782697120673"
     },
     "user_tz": -330
    },
    "id": "aE5DbBmtw7rg",
    "outputId": "a6a45abd-f938-4ab8-f8ef-3f75c983cf04"
   },
   "outputs": [
    {
     "name": "stdin",
     "output_type": "stream",
     "text": [
      "Enter value for num1:  30\n",
      "Enter value for num2:  20\n"
     ]
    },
    {
     "name": "stdout",
     "output_type": "stream",
     "text": [
      "Multiplication = 600\n"
     ]
    }
   ],
   "source": [
    "num1 = int(input(\"Enter value for num1: \"))\n",
    "num2 = int(input(\"Enter value for num2: \"))\n",
    "multi = num1 * num2\n",
    "print(f\"Multiplication = {multi}\")"
   ]
  },
  {
   "cell_type": "code",
   "execution_count": 7,
   "metadata": {
    "colab": {
     "base_uri": "https://localhost:8080/"
    },
    "executionInfo": {
     "elapsed": 4813,
     "status": "ok",
     "timestamp": 1728368114320,
     "user": {
      "displayName": "lambert rezon",
      "userId": "09998494782697120673"
     },
     "user_tz": -330
    },
    "id": "C-UN9ch2xEQH",
    "outputId": "e395ba9b-eb8c-4306-fb91-03e18acc2f2e"
   },
   "outputs": [
    {
     "name": "stdin",
     "output_type": "stream",
     "text": [
      "Enter value for num1:  300\n",
      "Enter value for num2:  10\n"
     ]
    },
    {
     "name": "stdout",
     "output_type": "stream",
     "text": [
      "Division = 30.0\n"
     ]
    }
   ],
   "source": [
    "num1 = int(input(\"Enter value for num1: \"))\n",
    "num2 = int(input(\"Enter value for num2: \"))\n",
    "div = num1 / num2\n",
    "print(f\"Division = {div}\")\n"
   ]
  },
  {
   "cell_type": "code",
   "execution_count": 8,
   "metadata": {
    "colab": {
     "base_uri": "https://localhost:8080/"
    },
    "executionInfo": {
     "elapsed": 3842,
     "status": "ok",
     "timestamp": 1728368138307,
     "user": {
      "displayName": "lambert rezon",
      "userId": "09998494782697120673"
     },
     "user_tz": -330
    },
    "id": "LQIm1mPWxKri",
    "outputId": "6fbc4612-1f4e-45e0-e319-1f5d9c5aa8fd"
   },
   "outputs": [
    {
     "name": "stdin",
     "output_type": "stream",
     "text": [
      "Enter value for num1:  295\n",
      "Enter value for num2:  10\n"
     ]
    },
    {
     "name": "stdout",
     "output_type": "stream",
     "text": [
      "Modulo = 5\n"
     ]
    }
   ],
   "source": [
    "num1 = int(input(\"Enter value for num1: \"))\n",
    "num2 = int(input(\"Enter value for num2: \"))\n",
    "mod = num1 % num2\n",
    "print(f\"Modulo = {mod}\")"
   ]
  },
  {
   "cell_type": "code",
   "execution_count": 9,
   "metadata": {
    "colab": {
     "base_uri": "https://localhost:8080/"
    },
    "executionInfo": {
     "elapsed": 3572,
     "status": "ok",
     "timestamp": 1728368162089,
     "user": {
      "displayName": "lambert rezon",
      "userId": "09998494782697120673"
     },
     "user_tz": -330
    },
    "id": "9wjCt11gxQZQ",
    "outputId": "c6406308-47d0-4117-8078-886095aa15e7"
   },
   "outputs": [
    {
     "name": "stdin",
     "output_type": "stream",
     "text": [
      "Enter value for num1:  10\n",
      "Enter value for num2:  2\n"
     ]
    },
    {
     "name": "stdout",
     "output_type": "stream",
     "text": [
      "Power = 100\n"
     ]
    }
   ],
   "source": [
    "num1 = int(input(\"Enter value for num1: \"))\n",
    "num2 = int(input(\"Enter value for num2: \"))\n",
    "power = num1 ** num2\n",
    "print(f\"Power = {power}\")"
   ]
  },
  {
   "cell_type": "code",
   "execution_count": null,
   "metadata": {},
   "outputs": [],
   "source": []
  }
 ],
 "metadata": {
  "colab": {
   "authorship_tag": "ABX9TyNhvyTGPrTCoB7sHhGWx4Bu",
   "provenance": []
  },
  "kernelspec": {
   "display_name": "Python 3 (ipykernel)",
   "language": "python",
   "name": "python3"
  },
  "language_info": {
   "codemirror_mode": {
    "name": "ipython",
    "version": 3
   },
   "file_extension": ".py",
   "mimetype": "text/x-python",
   "name": "python",
   "nbconvert_exporter": "python",
   "pygments_lexer": "ipython3",
   "version": "3.12.4"
  }
 },
 "nbformat": 4,
 "nbformat_minor": 4
}
