{
 "cells": [
  {
   "cell_type": "code",
   "execution_count": 2,
   "metadata": {
    "colab": {
     "base_uri": "https://localhost:8080/"
    },
    "executionInfo": {
     "elapsed": 2092,
     "status": "ok",
     "timestamp": 1728369684864,
     "user": {
      "displayName": "lambert rezon",
      "userId": "09998494782697120673"
     },
     "user_tz": -330
    },
    "id": "MXv10zks2V4u",
    "outputId": "7f7413f8-e590-4cb0-e146-8839112a1ae5"
   },
   "outputs": [
    {
     "name": "stdin",
     "output_type": "stream",
     "text": [
      "Enter a value:  10\n"
     ]
    },
    {
     "name": "stdout",
     "output_type": "stream",
     "text": [
      "correct\n"
     ]
    }
   ],
   "source": [
    "value = int(input(\"Enter a value: \"))\n",
    "if value == 10:\n",
    "  print(\"correct\")"
   ]
  },
  {
   "cell_type": "code",
   "execution_count": 3,
   "metadata": {
    "colab": {
     "base_uri": "https://localhost:8080/"
    },
    "executionInfo": {
     "elapsed": 4207,
     "status": "ok",
     "timestamp": 1728369810003,
     "user": {
      "displayName": "lambert rezon",
      "userId": "09998494782697120673"
     },
     "user_tz": -330
    },
    "id": "7VBboZNH3LfF",
    "outputId": "0c8353b2-a02d-4e06-f911-cef61b2edafe"
   },
   "outputs": [
    {
     "name": "stdin",
     "output_type": "stream",
     "text": [
      "Enter a value:  HOPE@123\n"
     ]
    },
    {
     "name": "stdout",
     "output_type": "stream",
     "text": [
      "YOUR PASSWORD IS CORRECT\n"
     ]
    }
   ],
   "source": [
    "value = input(\"Enter a value: \")\n",
    "if value == \"HOPE@123\":\n",
    "  print(\"YOUR PASSWORD IS CORRECT\")\n",
    "else:\n",
    "  print(\"YOUR PASSWORD IS INCORRECT\")"
   ]
  },
  {
   "cell_type": "code",
   "execution_count": 4,
   "metadata": {
    "colab": {
     "base_uri": "https://localhost:8080/"
    },
    "executionInfo": {
     "elapsed": 3872,
     "status": "ok",
     "timestamp": 1728369931159,
     "user": {
      "displayName": "lambert rezon",
      "userId": "09998494782697120673"
     },
     "user_tz": -330
    },
    "id": "7P5Jd6to3qz0",
    "outputId": "4af365f2-ab27-4f29-ced0-952a1ab9377b"
   },
   "outputs": [
    {
     "name": "stdin",
     "output_type": "stream",
     "text": [
      "Please enter your age:  20\n"
     ]
    },
    {
     "name": "stdout",
     "output_type": "stream",
     "text": [
      "Adult\n"
     ]
    }
   ],
   "source": [
    "age = int(input(\"Please enter your age: \"))\n",
    "\n",
    "if age < 13:\n",
    "  print(\"Child\")\n",
    "elif age < 18:\n",
    "  print(\"Teenager\")\n",
    "elif age < 60:\n",
    "  print(\"Adult\")\n",
    "else:\n",
    "  print(\"Senior Citizen\")\n",
    "\n"
   ]
  },
  {
   "cell_type": "code",
   "execution_count": 6,
   "metadata": {
    "colab": {
     "base_uri": "https://localhost:8080/"
    },
    "executionInfo": {
     "elapsed": 3441,
     "status": "ok",
     "timestamp": 1728370059167,
     "user": {
      "displayName": "lambert rezon",
      "userId": "09998494782697120673"
     },
     "user_tz": -330
    },
    "id": "5QzmoNg54b-t",
    "outputId": "8634542f-0668-4f4a-91c9-8193178fbfda"
   },
   "outputs": [
    {
     "name": "stdin",
     "output_type": "stream",
     "text": [
      "Enter a number:  1\n"
     ]
    },
    {
     "name": "stdout",
     "output_type": "stream",
     "text": [
      "The number is positive\n"
     ]
    }
   ],
   "source": [
    "number = int(input(\"Enter a number: \"))\n",
    "\n",
    "if number > 0:\n",
    "  print(\"The number is positive\")\n",
    "elif number < 0:\n",
    "  print(\"The number is negative\")\n",
    "else:\n",
    "  print(\"The number is zero\")"
   ]
  },
  {
   "cell_type": "code",
   "execution_count": 7,
   "metadata": {},
   "outputs": [
    {
     "name": "stdin",
     "output_type": "stream",
     "text": [
      "Enter a number:  200\n"
     ]
    },
    {
     "name": "stdout",
     "output_type": "stream",
     "text": [
      "The number is divisible by 5\n"
     ]
    }
   ],
   "source": [
    "number = int(input(\"Enter a number: \"))\n",
    "\n",
    "if number % 5 == 0:\n",
    "  print(\"The number is divisible by 5\")\n",
    "else:\n",
    "  print(\"The number is not divisible by 5\")"
   ]
  },
  {
   "cell_type": "code",
   "execution_count": null,
   "metadata": {},
   "outputs": [],
   "source": []
  }
 ],
 "metadata": {
  "colab": {
   "authorship_tag": "ABX9TyNAx9WR2BD8a4SBDtm4rTwo",
   "provenance": []
  },
  "kernelspec": {
   "display_name": "Python 3 (ipykernel)",
   "language": "python",
   "name": "python3"
  },
  "language_info": {
   "codemirror_mode": {
    "name": "ipython",
    "version": 3
   },
   "file_extension": ".py",
   "mimetype": "text/x-python",
   "name": "python",
   "nbconvert_exporter": "python",
   "pygments_lexer": "ipython3",
   "version": "3.12.4"
  }
 },
 "nbformat": 4,
 "nbformat_minor": 4
}
