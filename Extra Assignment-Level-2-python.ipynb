{
 "cells": [
  {
   "cell_type": "code",
   "execution_count": 1,
   "metadata": {
    "colab": {
     "base_uri": "https://localhost:8080/",
     "height": 0
    },
    "executionInfo": {
     "elapsed": 425,
     "status": "ok",
     "timestamp": 1728368359120,
     "user": {
      "displayName": "lambert rezon",
      "userId": "09998494782697120673"
     },
     "user_tz": -330
    },
    "id": "2YLr3-D4x243",
    "outputId": "338e5850-abab-4bdc-b45a-8b0235a6a54c"
   },
   "outputs": [
    {
     "name": "stdout",
     "output_type": "stream",
     "text": [
      "0\n",
      "1\n",
      "2\n",
      "3\n",
      "4\n",
      "5\n",
      "6\n",
      "7\n",
      "8\n",
      "9\n",
      "10\n",
      "11\n",
      "12\n",
      "13\n",
      "14\n",
      "15\n",
      "16\n",
      "17\n",
      "18\n",
      "19\n"
     ]
    }
   ],
   "source": [
    "for num in range(0,20):\n",
    "    print(num)"
   ]
  },
  {
   "cell_type": "code",
   "execution_count": 2,
   "metadata": {
    "colab": {
     "base_uri": "https://localhost:8080/",
     "height": 0
    },
    "executionInfo": {
     "elapsed": 415,
     "status": "ok",
     "timestamp": 1728368399781,
     "user": {
      "displayName": "lambert rezon",
      "userId": "09998494782697120673"
     },
     "user_tz": -330
    },
    "id": "09LZnVvPyFMI",
    "outputId": "c330b1d1-bbb0-45a1-c36b-142295505eeb"
   },
   "outputs": [
    {
     "name": "stdout",
     "output_type": "stream",
     "text": [
      "10 11 12 13 14 15 16 17 18 19 "
     ]
    }
   ],
   "source": [
    "for num in range(10,20):\n",
    "    print(num,end=\" \")"
   ]
  },
  {
   "cell_type": "code",
   "execution_count": 3,
   "metadata": {
    "colab": {
     "base_uri": "https://localhost:8080/",
     "height": 0
    },
    "executionInfo": {
     "elapsed": 408,
     "status": "ok",
     "timestamp": 1728368618393,
     "user": {
      "displayName": "lambert rezon",
      "userId": "09998494782697120673"
     },
     "user_tz": -330
    },
    "id": "Me1uFeHzyRZe",
    "outputId": "696eb303-19f5-4379-fcd4-e77934a23c6b"
   },
   "outputs": [
    {
     "name": "stdout",
     "output_type": "stream",
     "text": [
      "Number of item in the List: 7\n"
     ]
    }
   ],
   "source": [
    "a = [10, 20, 14, 55, 43, 87, 76]\n",
    "print (\"Number of item in the List: \"+str(len(a)))"
   ]
  },
  {
   "cell_type": "code",
   "execution_count": 7,
   "metadata": {
    "colab": {
     "base_uri": "https://localhost:8080/",
     "height": 0
    },
    "executionInfo": {
     "elapsed": 410,
     "status": "ok",
     "timestamp": 1728368751738,
     "user": {
      "displayName": "lambert rezon",
      "userId": "09998494782697120673"
     },
     "user_tz": -330
    },
    "id": "cledA_zpzikO",
    "outputId": "7bb536ca-306c-49d7-a77e-5d03ffc78d19"
   },
   "outputs": [
    {
     "name": "stdout",
     "output_type": "stream",
     "text": [
      "A\n",
      "r\n",
      "t\n",
      "i\n",
      "f\n",
      "i\n",
      "c\n",
      "i\n",
      "a\n",
      "l\n",
      " \n",
      "I\n",
      "n\n",
      "t\n",
      "e\n",
      "l\n",
      "l\n",
      "i\n",
      "g\n",
      "e\n",
      "n\n",
      "c\n",
      "e\n"
     ]
    }
   ],
   "source": [
    "text = \"Artificial Intelligence\"\n",
    "\n",
    "for char in text:\n",
    "    print(char)"
   ]
  },
  {
   "cell_type": "code",
   "execution_count": 5,
   "metadata": {
    "colab": {
     "base_uri": "https://localhost:8080/",
     "height": 0
    },
    "executionInfo": {
     "elapsed": 14289,
     "status": "ok",
     "timestamp": 1728368823284,
     "user": {
      "displayName": "lambert rezon",
      "userId": "09998494782697120673"
     },
     "user_tz": -330
    },
    "id": "9cBzhT-lzkHN",
    "outputId": "98d19b37-e4de-404d-8b98-33fc34f64444"
   },
   "outputs": [
    {
     "name": "stdin",
     "output_type": "stream",
     "text": [
      "Enter Your Name:  Rajesh\n"
     ]
    },
    {
     "name": "stdout",
     "output_type": "stream",
     "text": [
      "Your Name: Rajesh\n"
     ]
    },
    {
     "name": "stdin",
     "output_type": "stream",
     "text": [
      "Enter Your Age:  37\n"
     ]
    },
    {
     "name": "stdout",
     "output_type": "stream",
     "text": [
      "Your Age: 37\n"
     ]
    },
    {
     "name": "stdin",
     "output_type": "stream",
     "text": [
      "Enter Your Profession:  IT\n"
     ]
    },
    {
     "name": "stdout",
     "output_type": "stream",
     "text": [
      "Your Profession: IT\n"
     ]
    }
   ],
   "source": [
    "fields = [\"Your Name\", \"Your Age\", \"Your Profession\"]\n",
    "\n",
    "for field in fields:\n",
    "    value = input(f\"Enter {field}: \")\n",
    "    print(f\"{field}: {value}\")"
   ]
  },
  {
   "cell_type": "code",
   "execution_count": 6,
   "metadata": {
    "colab": {
     "base_uri": "https://localhost:8080/",
     "height": 0
    },
    "executionInfo": {
     "elapsed": 415,
     "status": "ok",
     "timestamp": 1728369197834,
     "user": {
      "displayName": "lambert rezon",
      "userId": "09998494782697120673"
     },
     "user_tz": -330
    },
    "id": "BSDToeZH0izK",
    "outputId": "cdb1f01f-14fd-443f-eb90-d16d9c95a385"
   },
   "outputs": [
    {
     "name": "stdout",
     "output_type": "stream",
     "text": [
      "(1, 'Welcome', 2, 'Hope')\n"
     ]
    }
   ],
   "source": [
    "my_sample_tuple = (1, 'Welcome', 2, 'Hope')\n",
    "\n",
    "print(my_sample_tuple)"
   ]
  },
  {
   "cell_type": "code",
   "execution_count": 8,
   "metadata": {
    "colab": {
     "base_uri": "https://localhost:8080/",
     "height": 0
    },
    "executionInfo": {
     "elapsed": 429,
     "status": "ok",
     "timestamp": 1728369228157,
     "user": {
      "displayName": "lambert rezon",
      "userId": "09998494782697120673"
     },
     "user_tz": -330
    },
    "id": "uwvoEWRI1Edo",
    "outputId": "e280d3a1-37e0-4b0a-9203-f584dbce0687"
   },
   "outputs": [
    {
     "name": "stdout",
     "output_type": "stream",
     "text": [
      "\n",
      "Tuple with nested tuples: \n",
      "((0, 1, 2, 3), ('python', 'HOPE AI'))\n"
     ]
    }
   ],
   "source": [
    "Tuple1 = (0, 1, 2, 3)\n",
    "Tuple2 = ('python', 'HOPE AI')\n",
    "Tuple3 = (Tuple1, Tuple2)\n",
    "print(\"\\nTuple with nested tuples: \")\n",
    "print(Tuple3)"
   ]
  },
  {
   "cell_type": "code",
   "execution_count": 9,
   "metadata": {
    "colab": {
     "base_uri": "https://localhost:8080/",
     "height": 0
    },
    "executionInfo": {
     "elapsed": 443,
     "status": "ok",
     "timestamp": 1728369334400,
     "user": {
      "displayName": "lambert rezon",
      "userId": "09998494782697120673"
     },
     "user_tz": -330
    },
    "id": "t2RJxRTD1ggf",
    "outputId": "80954b5b-bfa7-4bf6-a2d2-a400f3234e89"
   },
   "outputs": [
    {
     "name": "stdout",
     "output_type": "stream",
     "text": [
      "19 is Odd\n",
      "25 is Odd\n",
      "1 is Odd\n"
     ]
    }
   ],
   "source": [
    "numb=(20,10,16,19,25,1,276,188)\n",
    "for num in numb:\n",
    "    if num%2==1:\n",
    "        print(num,\"is Odd\")"
   ]
  },
  {
   "cell_type": "code",
   "execution_count": 10,
   "metadata": {
    "colab": {
     "base_uri": "https://localhost:8080/",
     "height": 0
    },
    "executionInfo": {
     "elapsed": 428,
     "status": "ok",
     "timestamp": 1728369364573,
     "user": {
      "displayName": "lambert rezon",
      "userId": "09998494782697120673"
     },
     "user_tz": -330
    },
    "id": "oYVvQOjc12L_",
    "outputId": "10c2fa95-1bda-424b-a147-3f460b98a5bd"
   },
   "outputs": [
    {
     "name": "stdout",
     "output_type": "stream",
     "text": [
      "20 is Even\n",
      "10 is Even\n",
      "16 is Even\n",
      "276 is Even\n",
      "188 is Even\n"
     ]
    }
   ],
   "source": [
    "numb=(20,10,16,19,25,1,276,188)\n",
    "for num in numb:\n",
    "    if num%2==0:\n",
    "        print(num,\"is Even\")"
   ]
  },
  {
   "cell_type": "code",
   "execution_count": null,
   "metadata": {},
   "outputs": [],
   "source": []
  }
 ],
 "metadata": {
  "colab": {
   "authorship_tag": "ABX9TyOfhgqXZdQmW2EJjQYKIqz3",
   "provenance": []
  },
  "kernelspec": {
   "display_name": "Python 3 (ipykernel)",
   "language": "python",
   "name": "python3"
  },
  "language_info": {
   "codemirror_mode": {
    "name": "ipython",
    "version": 3
   },
   "file_extension": ".py",
   "mimetype": "text/x-python",
   "name": "python",
   "nbconvert_exporter": "python",
   "pygments_lexer": "ipython3",
   "version": "3.12.4"
  }
 },
 "nbformat": 4,
 "nbformat_minor": 4
}
